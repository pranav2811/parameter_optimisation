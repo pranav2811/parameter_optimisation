{
 "cells": [
  {
   "cell_type": "code",
   "execution_count": 58,
   "metadata": {},
   "outputs": [],
   "source": [
    "import openml\n",
    "from sklearn.model_selection import train_test_split, GridSearchCV\n",
    "from sklearn.svm import SVC\n",
    "from sklearn.impute import SimpleImputer\n",
    "from sklearn.preprocessing import LabelEncoder\n",
    "import pandas as pd\n",
    "import matplotlib.pyplot as plt"
   ]
  },
  {
   "cell_type": "code",
   "execution_count": 59,
   "metadata": {},
   "outputs": [
    {
     "name": "stderr",
     "output_type": "stream",
     "text": [
      "C:\\Users\\powar\\AppData\\Local\\Temp\\ipykernel_1484\\1353220025.py:1: FutureWarning: Starting from Version 0.15 `download_data`, `download_qualities`, and `download_features_meta_data` will all be ``False`` instead of ``True`` by default to enable lazy loading. To disable this message until version 0.15 explicitly set `download_data`, `download_qualities`, and `download_features_meta_data` to a bool while calling `get_dataset`.\n",
      "  dataset = openml.datasets.get_dataset(45919)\n",
      "WARNING:openml.datasets.functions:Could not download file from https://openml1.win.tue.nl/datasets/0004/45919/dataset_45919.pq: Object at 'https://openml1.win.tue.nl/datasets/0004/45919/dataset_45919.pq' does not exist.\n",
      "WARNING:openml.datasets.functions:Failed to download parquet, fallback on ARFF.\n"
     ]
    }
   ],
   "source": [
    "dataset = openml.datasets.get_dataset(45919)\n",
    "X, y, _, _ = dataset.get_data(target=dataset.default_target_attribute)"
   ]
  },
  {
   "cell_type": "code",
   "execution_count": 60,
   "metadata": {},
   "outputs": [],
   "source": [
    "if y.dtype == 'object':\n",
    "    label_encoder = LabelEncoder()\n",
    "    y = label_encoder.fit_transform(y)\n",
    "imputer = SimpleImputer(strategy='mean')\n",
    "X_imputed = imputer.fit_transform(X)"
   ]
  },
  {
   "cell_type": "code",
   "execution_count": 61,
   "metadata": {},
   "outputs": [],
   "source": [
    "# SVM parameters for classification\n",
    "parameters = {'kernel': ['linear', 'rbf', 'poly'],\n",
    "              'C': [0.1, 1, 10]}  # Regularization parameter"
   ]
  },
  {
   "cell_type": "code",
   "execution_count": 62,
   "metadata": {},
   "outputs": [],
   "source": [
    "best_accuracy = 0\n",
    "best_params = None"
   ]
  },
  {
   "cell_type": "code",
   "execution_count": 63,
   "metadata": {},
   "outputs": [
    {
     "name": "stdout",
     "output_type": "stream",
     "text": [
      "Fitting 5 folds for each of 9 candidates, totalling 45 fits\n"
     ]
    }
   ],
   "source": [
    "for i in range(10):\n",
    "    # Split imputed data into training and testing sets\n",
    "    X_train, X_test, y_train, y_test = train_test_split(X_imputed, y, test_size=0.3, random_state=i)\n",
    "    \n",
    "    # Initialize SVM classifier\n",
    "    svc = SVC()\n",
    "\n",
    "    # Perform grid search with cross-validation\n",
    "    clf = GridSearchCV(svc, parameters, cv=5, n_jobs=-1, verbose=1)\n",
    "    clf.fit(X_train, y_train)\n",
    "    \n",
    "    # Store best results if current model is better\n",
    "    if clf.best_score_ > best_accuracy:\n",
    "        best_accuracy = clf.best_score_\n",
    "        best_params = clf.best_params_\n",
    "        best_sample_index = i\n",
    "        best_X_train = X_train\n",
    "        best_y_train = y_train\n",
    "        best_X_test = X_test\n",
    "        best_y_test = y_test\n",
    " "
   ]
  },
  {
   "cell_type": "code",
   "execution_count": null,
   "metadata": {},
   "outputs": [],
   "source": [
    "# Initialize SVC with the best parameters\n",
    "best_svc = SVC(**best_params)\n",
    "\n",
    "# Train SVC on the best sample\n",
    "best_svc.fit(best_X_train, best_y_train)"
   ]
  },
  {
   "cell_type": "code",
   "execution_count": null,
   "metadata": {},
   "outputs": [],
   "source": [
    "accuracies = []\n",
    "iterations = []"
   ]
  },
  {
   "cell_type": "code",
   "execution_count": null,
   "metadata": {},
   "outputs": [],
   "source": [
    "for iteration in range(1, 101):  # Assuming 100 iterations\n",
    "    best_svc.set_params(max_iter=iteration)\n",
    "    best_svc.fit(best_X_train, best_y_train)\n",
    "    accuracy = best_svc.score(best_X_test, best_y_test)\n",
    "    accuracies.append(accuracy)\n",
    "    iterations.append(iteration)"
   ]
  },
  {
   "cell_type": "code",
   "execution_count": null,
   "metadata": {},
   "outputs": [],
   "source": [
    "plt.figure(figsize=(10, 6))\n",
    "plt.plot(iterations, accuracies, marker='o')\n",
    "plt.title(f\"Fitness (Best Accuracy: {best_accuracy})\")\n",
    "plt.xlabel(\"Iteration\")\n",
    "plt.ylabel(\"Accuracy\")\n",
    "plt.grid(True)\n",
    "plt.show()"
   ]
  }
 ],
 "metadata": {
  "kernelspec": {
   "display_name": "Python 3",
   "language": "python",
   "name": "python3"
  },
  "language_info": {
   "codemirror_mode": {
    "name": "ipython",
    "version": 3
   },
   "file_extension": ".py",
   "mimetype": "text/x-python",
   "name": "python",
   "nbconvert_exporter": "python",
   "pygments_lexer": "ipython3",
   "version": "3.8.5"
  }
 },
 "nbformat": 4,
 "nbformat_minor": 2
}
