{
 "cells": [
  {
   "cell_type": "code",
   "execution_count": 19,
   "metadata": {},
   "outputs": [],
   "source": [
    "import openml\n",
    "import pandas as pd\n",
    "import numpy as np\n",
    "from sklearn.datasets import fetch_openml\n",
    "from sklearn.model_selection import ShuffleSplit\n",
    "from sklearn.ensemble import RandomForestClassifier\n",
    "from sklearn.metrics import accuracy_score"
   ]
  },
  {
   "cell_type": "code",
   "execution_count": 20,
   "metadata": {},
   "outputs": [
    {
     "name": "stderr",
     "output_type": "stream",
     "text": [
      "C:\\Users\\powar\\AppData\\Local\\Temp\\ipykernel_24492\\3008110783.py:1: FutureWarning: Support for `output_format` of 'dict' will be removed in 0.15 and pandas dataframes will be returned instead. To ensure your code will continue to work, use `output_format`='dataframe'.\n",
      "  datasets = openml.datasets.list_datasets()\n"
     ]
    },
    {
     "name": "stdout",
     "output_type": "stream",
     "text": [
      "                                                 name NumberOfInstances  \\\n",
      "6                                              letter           20000.0   \n",
      "26                                            nursery           12960.0   \n",
      "28                                          optdigits            5620.0   \n",
      "30                                        page-blocks            5473.0   \n",
      "32                                          pendigits           10992.0   \n",
      "...                                               ...               ...   \n",
      "45919      padding-attack-dataset-facebook-2023-12-05           19487.0   \n",
      "45920  padding-attack-dataset-netscalergcm-2023-12-13            7678.0   \n",
      "45921         padding-attack-dataset-panos-2023-12-13            7869.0   \n",
      "45923                                    IndoorScenes           15620.0   \n",
      "45936                                    IndoorScenes           15620.0   \n",
      "\n",
      "      NumberOfClasses  \n",
      "6                26.0  \n",
      "26                5.0  \n",
      "28               10.0  \n",
      "30                5.0  \n",
      "32               10.0  \n",
      "...               ...  \n",
      "45919            11.0  \n",
      "45920            11.0  \n",
      "45921            11.0  \n",
      "45923            67.0  \n",
      "45936            67.0  \n",
      "\n",
      "[171 rows x 3 columns]\n"
     ]
    }
   ],
   "source": [
    "datasets = openml.datasets.list_datasets()\n",
    "df_datasets = pd.DataFrame(datasets).transpose()\n",
    "suitable_datasets = df_datasets[(df_datasets['NumberOfInstances'] > 5000) & \n",
    "                                (df_datasets['NumberOfInstances'] < 30000) &\n",
    "                                (df_datasets['NumberOfClasses'] > 2)]\n",
    "# Print some suitable datasets to choose from\n",
    "print(suitable_datasets[['name', 'NumberOfInstances', 'NumberOfClasses']])\n"
   ]
  },
  {
   "cell_type": "code",
   "execution_count": 21,
   "metadata": {},
   "outputs": [
    {
     "name": "stderr",
     "output_type": "stream",
     "text": [
      "c:\\Program Files\\Python38\\lib\\site-packages\\sklearn\\datasets\\_openml.py:968: FutureWarning: The default value of `parser` will change from `'liac-arff'` to `'auto'` in 1.4. You can set `parser='auto'` to silence this warning. Therefore, an `ImportError` will be raised from 1.4 if the dataset is dense and pandas is not installed. Note that the pandas parser may return different data types. See the Notes Section in fetch_openml's API doc for details.\n",
      "  warn(\n"
     ]
    }
   ],
   "source": [
    "dataset_id = 45919  # Replace with the actual ID after checking\n",
    "data = fetch_openml(data_id=dataset_id, as_frame=True)\n",
    "X = data.data\n",
    "y = data.target"
   ]
  },
  {
   "cell_type": "code",
   "execution_count": 22,
   "metadata": {},
   "outputs": [],
   "source": [
    "from sklearn import svm\n",
    "import matplotlib.pyplot as plt\n",
    "from sklearn.metrics import accuracy_score\n",
    "from sklearn.model_selection import train_test_split\n",
    "import random as r\n",
    "     "
   ]
  },
  {
   "cell_type": "code",
   "execution_count": 23,
   "metadata": {},
   "outputs": [],
   "source": [
    "best_accuracy = 0\n",
    "best_kernel = \"\"\n",
    "best_nu = 0\n",
    "best_epsilon = 0\n",
    "iteration = 100\n",
    "kernel_list = [ 'sigmoid', 'rbf', 'poly', 'linear']"
   ]
  },
  {
   "cell_type": "code",
   "execution_count": 24,
   "metadata": {},
   "outputs": [],
   "source": [
    "def fitness_function(x_train, y_train, x_test, y_test, C, kernel, gamma):\n",
    "    model = svm.SVC(C=C, kernel=kernel, gamma=gamma)\n",
    "    model.fit(x_train, y_train)\n",
    "    predicted = model.predict(x_test)\n",
    "    accuracy = accuracy_score(y_test, predicted) * 100\n",
    "    return accuracy\n"
   ]
  },
  {
   "cell_type": "code",
   "execution_count": 25,
   "metadata": {},
   "outputs": [
    {
     "data": {
      "text/plain": [
       "[array([14425,  6042,  4970, ..., 10708, 18185,  7080]),\n",
       " array([ 4603,  9100,  8624, ..., 15440, 12384,  8225]),\n",
       " array([  437, 15503, 13613, ...,   949,  9363,  2286]),\n",
       " array([ 6229,  2153,  4159, ...,  2489, 10121,  7355]),\n",
       " array([ 7127, 19120,   691, ...,  5298,  2326,  6076]),\n",
       " array([11297,  6779, 12249, ...,  5663, 18218,  3029]),\n",
       " array([ 9043, 12605, 13782, ...,  8968, 15842,  7394]),\n",
       " array([ 3012,  4481,  2627, ...,  6106, 18847,  4332]),\n",
       " array([ 8771,  7492, 17850, ..., 16457, 17782, 12467]),\n",
       " array([ 9689,  5337,  4703, ...,  3578, 19366,  2052])]"
      ]
     },
     "execution_count": 25,
     "metadata": {},
     "output_type": "execute_result"
    }
   ],
   "source": [
    "num_samples = 10\n",
    "sample_indices = np.array_split(np.random.permutation(len(X)), num_samples)\n",
    "\n",
    "best_accuracy_list = []\n",
    "best_params_list = []\n",
    "sample_indices"
   ]
  },
  {
   "cell_type": "code",
   "execution_count": 26,
   "metadata": {},
   "outputs": [],
   "source": [
    "for indices in sample_indices:\n",
    "    X_train, X_test, y_train, y_test = train_test_split(X.iloc[indices], y.iloc[indices], test_size=0.3, random_state=42)\n",
    "\n",
    "    best_accuracy = 0\n",
    "    best_params = {'C': 0, 'kernel': '', 'gamma': 0}\n",
    "\n",
    "    for j in range(iteration):\n",
    "        C = np.random.uniform(0.1, 10)\n",
    "        kernel = np.random.choice(kernel_list)\n",
    "        gamma = np.random.uniform(0,10)\n",
    "\n",
    "        try:\n",
    "            accuracy = fitness_function(X_train, y_train, X_test, y_test, C, kernel, gamma)\n",
    "        except ValueError:\n",
    "            continue\n",
    "\n",
    "        if accuracy > best_accuracy:\n",
    "            best_params = {'C': C, 'kernel': kernel, 'gamma': gamma}\n",
    "            best_accuracy = accuracy\n",
    "\n",
    "    best_accuracy_list.append(best_accuracy)\n",
    "    best_params_list.append(best_params)"
   ]
  },
  {
   "cell_type": "code",
   "execution_count": 27,
   "metadata": {},
   "outputs": [
    {
     "ename": "NameError",
     "evalue": "name 'max_accuracy_idx' is not defined",
     "output_type": "error",
     "traceback": [
      "\u001b[1;31m---------------------------------------------------------------------------\u001b[0m",
      "\u001b[1;31mNameError\u001b[0m                                 Traceback (most recent call last)",
      "Cell \u001b[1;32mIn[27], line 1\u001b[0m\n\u001b[1;32m----> 1\u001b[0m plt\u001b[38;5;241m.\u001b[39mplot(\u001b[38;5;28mrange\u001b[39m(\u001b[38;5;241m1\u001b[39m, iteration \u001b[38;5;241m+\u001b[39m \u001b[38;5;241m1\u001b[39m), best_accuracy_list[\u001b[43mmax_accuracy_idx\u001b[49m], label\u001b[38;5;241m=\u001b[39m\u001b[38;5;124m'\u001b[39m\u001b[38;5;124mMax Accuracy\u001b[39m\u001b[38;5;124m'\u001b[39m)\n\u001b[0;32m      2\u001b[0m plt\u001b[38;5;241m.\u001b[39mxlabel(\u001b[38;5;124m'\u001b[39m\u001b[38;5;124mIteration\u001b[39m\u001b[38;5;124m'\u001b[39m)\n\u001b[0;32m      3\u001b[0m plt\u001b[38;5;241m.\u001b[39mylabel(\u001b[38;5;124m'\u001b[39m\u001b[38;5;124mAccuracy\u001b[39m\u001b[38;5;124m'\u001b[39m)\n",
      "\u001b[1;31mNameError\u001b[0m: name 'max_accuracy_idx' is not defined"
     ]
    }
   ],
   "source": [
    "plt.plot(range(1, iteration + 1), best_accuracy_list[max_accuracy_idx], label='Max Accuracy')\n",
    "plt.xlabel('Iteration')\n",
    "plt.ylabel('Accuracy')\n",
    "plt.title('Convergence Graph (Max Accuracy)')\n",
    "plt.legend()\n",
    "plt.show()\n"
   ]
  }
 ],
 "metadata": {
  "kernelspec": {
   "display_name": "Python 3",
   "language": "python",
   "name": "python3"
  },
  "language_info": {
   "codemirror_mode": {
    "name": "ipython",
    "version": 3
   },
   "file_extension": ".py",
   "mimetype": "text/x-python",
   "name": "python",
   "nbconvert_exporter": "python",
   "pygments_lexer": "ipython3",
   "version": "3.8.5"
  }
 },
 "nbformat": 4,
 "nbformat_minor": 2
}
